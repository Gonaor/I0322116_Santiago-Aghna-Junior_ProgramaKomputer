{
 "cells": [
  {
   "cell_type": "code",
   "execution_count": 1,
   "metadata": {},
   "outputs": [
    {
     "name": "stdout",
     "output_type": "stream",
     "text": [
      "Santiago Aghna Junior\n",
      "I0322116\n",
      "D\n"
     ]
    }
   ],
   "source": [
    "print(input(\"Nama: \"))\n",
    "print(input(\"NIM: \"))\n",
    "print(input(\"Kelas: \"))"
   ]
  },
  {
   "attachments": {},
   "cell_type": "markdown",
   "metadata": {},
   "source": [
    "## 1."
   ]
  },
  {
   "attachments": {},
   "cell_type": "markdown",
   "metadata": {},
   "source": [
    "Buatlah program yang menampilkan salam “Selamat Pagi” dari berbagai negara {Inggris, Perancis, Italia, Spanyol, Jepang, Korea} dengan dua input dari user yaitu bahasa dan diikuti nama user.<br>\n",
    "<br>Ex : \n",
    "<br>\"Ohayou, Onii Chan\"\n",
    "> *note: Kerjakan soal ini dengan percabangan*"
   ]
  },
  {
   "cell_type": "code",
   "execution_count": 15,
   "metadata": {},
   "outputs": [
    {
     "name": "stdout",
     "output_type": "stream",
     "text": [
      "\n",
      "====================\n",
      "Berikut adalah hasil codingan saya mengenai soal nomor 1\n",
      "Buen Dia, Ago\n",
      "Jadi, apakah anda berasal dari Spanyol ?\n",
      "minimal maksimal senggol bhuoss ngobhuoss\n",
      "====================\n",
      "\n",
      "Sekian Terimakasih\n"
     ]
    }
   ],
   "source": [
    "# Kerjakan soal nomor 1 disini\n",
    "\n",
    "#input\n",
    "namser = (input(\"Nama user: \"))\n",
    "bahser = (input(\"Pilih bahasa sesuai yang ada di list yang tertera: \"))\n",
    "\n",
    "salam = {\"Inggris\" : \"Good Morning\", \"Perancis\" : \"Bonjour\", \"Italia\" : \"Buongiorno\", \"Spanyol\" : \"Buen Dia\", \"Jepang\" : \"Ohayou\", \"Korea\" : \"Joh-eun Achim-ieyo\"}\n",
    "\n",
    "#output\n",
    "print()\n",
    "print(\"====================\")\n",
    "print(\"Berikut adalah hasil codingan saya mengenai soal nomor 1\")\n",
    "if bahser in salam:\n",
    "    print(f\"{salam[bahser]}, {namser}\")\n",
    "    print(f\"Jadi, apakah anda berasal dari {bahser} ?\")\n",
    "    print(\"minimal maksimal senggol bhuoss ngobhuoss\")\n",
    "else:\n",
    "    print(\"Mohon maaf bahasa yang anda pilih tidak terdaftar pada list\")\n",
    "print(\"====================\")\n",
    "print()\n",
    "print(\"Sekian Terimakasih\")"
   ]
  },
  {
   "attachments": {},
   "cell_type": "markdown",
   "metadata": {},
   "source": [
    "## 2."
   ]
  },
  {
   "attachments": {},
   "cell_type": "markdown",
   "metadata": {},
   "source": [
    "Buatlah program perhitungan umur dengan menggunakan input user yaitu tahun lahir dari user.<br>\n",
    "<br>Output yang dihasilkan adalah sebagai berikut:\n",
    "<br>\"Apakah anda berasal dari masa depan?\"\n",
    "<br>\"Anda barusaja lahir\"\n",
    "<br>\"Umur Anda adalah xx tahun\"\n",
    "> *note: Kerjakan soal ini dengan percabangan*"
   ]
  },
  {
   "cell_type": "code",
   "execution_count": 18,
   "metadata": {},
   "outputs": [
    {
     "name": "stdout",
     "output_type": "stream",
     "text": [
      "\n",
      "====================\n",
      "Berikut adalah hasil codingan saya mengenai soal nomor 2\n",
      "Umur anda adalah 20 tahun\n",
      "Minimal nek wes gede yo ojo fafifu\n",
      "Bismilah mugo ntuk biji A\n",
      "====================\n",
      "\n",
      "Sekian Terimakasih\n"
     ]
    }
   ],
   "source": [
    "# Kerjakan soal nomor 2 disini\n",
    "\n",
    "#input\n",
    "list: {\"Apakah anda berasal dari masa depan?\",\n",
    "       \"Anda barusaja lahir\",\n",
    "       \"Umur Anda adalah xx tahun\"}\n",
    "\n",
    "tahuse = int(input(\"Mohon untuk mengisikan tahun lahir anda: \"))\n",
    "\n",
    "#output\n",
    "print()\n",
    "print(\"====================\")\n",
    "print(\"Berikut adalah hasil codingan saya mengenai soal nomor 2\")\n",
    "if tahuse > 2023:\n",
    "    print(\"Apakah anda berasal dari masa depan?\")\n",
    "    print(\"Ojo ngapusi lho sam, ngapusi doso soale wayah poso\")\n",
    "elif tahuse == 2023:\n",
    "    print(\"Anda barusaja lahir\")\n",
    "    print(\"Bayi ojo kemaki, sinau moco nulis sek ae ndes\")\n",
    "elif tahuse < 2023:\n",
    "    print(\"Umur anda adalah\", 2023-tahuse, \"tahun\")\n",
    "    print(\"Minimal nek wes gede yo ojo fafifu\")\n",
    "print(\"Bismilah mugo ntuk biji A\")\n",
    "print(\"====================\")\n",
    "print()\n",
    "print(\"Sekian Terimakasih\")"
   ]
  }
 ],
 "metadata": {
  "kernelspec": {
   "display_name": "Python 3",
   "language": "python",
   "name": "python3"
  },
  "language_info": {
   "codemirror_mode": {
    "name": "ipython",
    "version": 3
   },
   "file_extension": ".py",
   "mimetype": "text/x-python",
   "name": "python",
   "nbconvert_exporter": "python",
   "pygments_lexer": "ipython3",
   "version": "3.10.7"
  },
  "orig_nbformat": 4
 },
 "nbformat": 4,
 "nbformat_minor": 2
}
