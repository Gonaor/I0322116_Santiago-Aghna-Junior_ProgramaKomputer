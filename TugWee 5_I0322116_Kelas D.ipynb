{
 "cells": [
  {
   "attachments": {},
   "cell_type": "markdown",
   "metadata": {},
   "source": [
    "1. Buatlah program pemanggilan angka secara descending menggunakan pengulangan dari angka 50 hingga 0!"
   ]
  },
  {
   "cell_type": "code",
   "execution_count": 1,
   "metadata": {},
   "outputs": [
    {
     "name": "stdout",
     "output_type": "stream",
     "text": [
      "50\n",
      "49\n",
      "48\n",
      "47\n",
      "46\n",
      "45\n",
      "44\n",
      "43\n",
      "42\n",
      "41\n",
      "40\n",
      "39\n",
      "38\n",
      "37\n",
      "36\n",
      "35\n",
      "34\n",
      "33\n",
      "32\n",
      "31\n",
      "30\n",
      "29\n",
      "28\n",
      "27\n",
      "26\n",
      "25\n",
      "24\n",
      "23\n",
      "22\n",
      "21\n",
      "20\n",
      "19\n",
      "18\n",
      "17\n",
      "16\n",
      "15\n",
      "14\n",
      "13\n",
      "12\n",
      "11\n",
      "10\n",
      "9\n",
      "8\n",
      "7\n",
      "6\n",
      "5\n",
      "4\n",
      "3\n",
      "2\n",
      "1\n",
      "0\n"
     ]
    }
   ],
   "source": [
    "# kerjakan nomor 1 di sini\n",
    "\n",
    "for pemanggilan_angka in range(50, -1, -1):\n",
    "    print(pemanggilan_angka)"
   ]
  },
  {
   "attachments": {},
   "cell_type": "markdown",
   "metadata": {},
   "source": [
    "2. Buatlah sebuah list yang berisi kota-kota yang ada di indonesia (minimal 10, salah satunya kota asal kalian), kemudian buat pengulangan yang menampilkan isi-isi dalam list tersebut, jika salah satu kota menunjukkan kota asal kalian maka tambahkan output \"kota X adalah kampung halaman saya\" (program tetap lanjut)"
   ]
  },
  {
   "cell_type": "code",
   "execution_count": 2,
   "metadata": {},
   "outputs": [
    {
     "name": "stdout",
     "output_type": "stream",
     "text": [
      "Kudus adalah kampung halaman saya\n",
      "Mojokerto adalah kota kelahiran saya\n",
      "Surabaya adalah kota yang terdapat di Indonesia\n",
      "Semarang adalah kota yang terdapat di Indonesia\n",
      "Jakarta adalah kota yang terdapat di Indonesia\n",
      "Yogyakarta adalah kota yang terdapat di Indonesia\n",
      "Surakarta adalah kota yang terdapat di Indonesia\n",
      "Makassar adalah kota yang terdapat di Indonesia\n",
      "Lampung adalah kota yang terdapat di Indonesia\n",
      "Manado adalah kota yang terdapat di Indonesia\n",
      "Lombok adalah kota yang terdapat di Indonesia\n",
      "Papua adalah kota yang terdapat di Indonesia\n",
      "Batam adalah kota yang terdapat di Indonesia\n",
      "Jayapura adalah kota yang terdapat di Indonesia\n",
      "Badung adalah kota yang terdapat di Indonesia\n"
     ]
    }
   ],
   "source": [
    "# Kerjakan nomor 2 di sini\n",
    "\n",
    "#input\n",
    "kota_indonesia = [\"Kudus\", \"Mojokerto\", \"Surabaya\", \"Semarang\", \"Jakarta\", \"Yogyakarta\", \"Surakarta\", \"Makassar\", \"Lampung\", \"Manado\", \"Lombok\", \"Papua\", \"Batam\", \"Jayapura\", \"Badung\"]\n",
    "\n",
    "#output\n",
    "for koin in kota_indonesia:\n",
    "    if koin == \"Kudus\":\n",
    "        print(koin + \" adalah kampung halaman saya\")\n",
    "    elif koin == \"Mojokerto\":\n",
    "        print(koin + \" adalah kota kelahiran saya\")\n",
    "    else:\n",
    "        print(koin + \" adalah kota yang terdapat di Indonesia\")"
   ]
  },
  {
   "attachments": {},
   "cell_type": "markdown",
   "metadata": {},
   "source": [
    "3. Disajikan list sebagai berikut"
   ]
  },
  {
   "cell_type": "code",
   "execution_count": 3,
   "metadata": {},
   "outputs": [],
   "source": [
    "hari = ['senin', 'selasa','rabu','kamis','jumat','sabtu', 'minggu']\n",
    "menu_sahur = ['soto','pecel lele', 'ayam goreng', 'sayur sop', 'rendang','telur balado']"
   ]
  },
  {
   "attachments": {},
   "cell_type": "markdown",
   "metadata": {},
   "source": [
    "Abdul adalah seorang mahasiswa semester 2. Selama satu minggu ia membuat daftar menu sahur yang dia makan selama seminggu yang lalu. dengan catatan hari kamis Abdul ketiduran sehingga dia tidak sahur. Berdasarkan kasus tersebut buatlah program pengulangannya!"
   ]
  },
  {
   "cell_type": "code",
   "execution_count": 4,
   "metadata": {},
   "outputs": [
    {
     "name": "stdout",
     "output_type": "stream",
     "text": [
      "Pada hari Senin menu sahur Abdul adalah Soto\n",
      "Pada hari Selasa menu sahur Abdul adalah Pecel Lele\n",
      "Pada hari Rabu menu sahur Abdul adalah Ayam Goreng\n",
      "Pada hari Kamis Abdul tidak sahur karena alarmnya mati, semoga puasanya lancar\n",
      "Pada hari Jumat menu sahur Abdul adalah Sayur Sop\n",
      "Pada hari Sabtu menu sahur Abdul adalah Rendang\n",
      "Pada hari Minggu menu sahur Abdul adalah Telur Balado\n"
     ]
    }
   ],
   "source": [
    "# kerjakan nomor 3 di sini\n",
    "\n",
    "#input\n",
    "fasting_day = [\"Senin\", \"Selasa\", \"Rabu\", \"Kamis\", \"Jumat\", \"Sabtu\", \"Minggu\"]\n",
    "sahur_menu = [\"Soto\", \"Pecel Lele\", \"Ayam Goreng\", \"Sayur Sop\", \"Rendang\", \"Telur Balado\"]\n",
    "\n",
    "#output\n",
    "for i in range(4):\n",
    "    if i == 3:\n",
    "        print(\"Pada hari Kamis Abdul tidak sahur karena alarmnya mati, semoga puasanya lancar\")\n",
    "    else:\n",
    "        print(\"Pada hari\", fasting_day[i], \"menu sahur Abdul adalah\", sahur_menu[i])\n",
    "print(\"Pada hari Jumat menu sahur Abdul adalah Sayur Sop\")\n",
    "print(\"Pada hari Sabtu menu sahur Abdul adalah Rendang\")\n",
    "print(\"Pada hari Minggu menu sahur Abdul adalah Telur Balado\")"
   ]
  }
 ],
 "metadata": {
  "kernelspec": {
   "display_name": "Python 3",
   "language": "python",
   "name": "python3"
  },
  "language_info": {
   "codemirror_mode": {
    "name": "ipython",
    "version": 3
   },
   "file_extension": ".py",
   "mimetype": "text/x-python",
   "name": "python",
   "nbconvert_exporter": "python",
   "pygments_lexer": "ipython3",
   "version": "3.10.7"
  },
  "orig_nbformat": 4
 },
 "nbformat": 4,
 "nbformat_minor": 2
}
